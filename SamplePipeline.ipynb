{
 "cells": [
  {
   "cell_type": "markdown",
   "id": "282d1740",
   "metadata": {},
   "source": [
    "## Azure ML Pipeline - Parameterized Input Dataset\n",
    "This notebook demonstrates creation & execution of an Azure ML pipeline designed to accept a parameterized input reflecting the location of a file in the Azure ML default datastore to be initially registered as a tabular dataset and subsequently processed. This notebook was built as part of a larger solution where files were moved from a blob storage container to the default AML datastore via Azure Data Factory."
   ]
  },
  {
   "cell_type": "markdown",
   "id": "08949153",
   "metadata": {},
   "source": [
    "### Import Required Packages"
   ]
  },
  {
   "cell_type": "code",
   "execution_count": null,
   "id": "2db21f15",
   "metadata": {},
   "outputs": [],
   "source": [
    "from azureml.core import Workspace, Experiment, Datastore, Environment, Dataset\n",
    "from azureml.core.compute import ComputeTarget, AmlCompute, DataFactoryCompute\n",
    "from azureml.core.compute_target import ComputeTargetException\n",
    "from azureml.core.runconfig import RunConfiguration\n",
    "from azureml.core.conda_dependencies import CondaDependencies\n",
    "from azureml.core.runconfig import DEFAULT_CPU_IMAGE\n",
    "from azureml.pipeline.core import Pipeline, PipelineParameter, PipelineData\n",
    "from azureml.pipeline.steps import PythonScriptStep\n",
    "from azureml.pipeline.core import PipelineParameter, PipelineData\n",
    "from azureml.data.output_dataset_config import OutputTabularDatasetConfig, OutputDatasetConfig, OutputFileDatasetConfig\n",
    "from azureml.data.datapath import DataPath\n",
    "from azureml.data.data_reference import DataReference\n",
    "from azureml.data.sql_data_reference import SqlDataReference\n",
    "from azureml.pipeline.steps import DataTransferStep\n",
    "import logging"
   ]
  },
  {
   "cell_type": "markdown",
   "id": "ca11dadd",
   "metadata": {},
   "source": [
    "### Connect to Azure ML Workspace, Provision Compute Resources, and get References to Datastores\n",
    "Connect to workspace using config associated config file. Get a reference to you pre-existing AML compute cluster or provision a new cluster to facilitate processing. Finally, get references to your default blob datastore."
   ]
  },
  {
   "cell_type": "code",
   "execution_count": null,
   "id": "895791a5",
   "metadata": {},
   "outputs": [],
   "source": [
    "#Connect to AML Workspace\n",
    "ws = Workspace.from_config()\n",
    "\n",
    "#Select AML Compute Cluster\n",
    "cpu_cluster_name = 'cpucluster'\n",
    "\n",
    "# Verify that cluster does not exist already\n",
    "try:\n",
    "    cpu_cluster = ComputeTarget(workspace=ws, name=cpu_cluster_name)\n",
    "    print('Found an existing cluster, using it instead.')\n",
    "except ComputeTargetException:\n",
    "    compute_config = AmlCompute.provisioning_configuration(vm_size='STANDARD_D13_V2',\n",
    "                                                           min_nodes=0,\n",
    "                                                           max_nodes=10)\n",
    "    cpu_cluster = ComputeTarget.create(ws, cpu_cluster_name, compute_config)\n",
    "    cpu_cluster.wait_for_completion(show_output=True)\n",
    "    \n",
    "#Get default datastore\n",
    "default_ds = ws.get_default_datastore()"
   ]
  },
  {
   "cell_type": "markdown",
   "id": "bf833377",
   "metadata": {},
   "source": [
    " ### Create Run Configuration\n",
    "The `RunConfiguration` defines the environment used across all python steps. You can optionally add additional conda or pip packages to be added to your environment. [More details here](https://docs.microsoft.com/en-us/python/api/azureml-core/azureml.core.conda_dependencies.condadependencies?view=azure-ml-py).\n",
    "~~~~\n",
    "run_config.environment.python.conda_dependencies = CondaDependencies.create(conda_packages=['requests'])\n",
    "run_config.environment.python.conda_dependencies.add_pip_package('azureml-opendatasets')\n",
    "~~~~"
   ]
  },
  {
   "cell_type": "code",
   "execution_count": null,
   "id": "21ff9597",
   "metadata": {},
   "outputs": [],
   "source": [
    "run_config = RunConfiguration()\n",
    "run_config.environment.docker.enabled = True\n",
    "run_config.environment.docker.base_image = DEFAULT_CPU_IMAGE"
   ]
  },
  {
   "cell_type": "markdown",
   "id": "5edc4ec1",
   "metadata": {},
   "source": [
    "### Define Output Datasets\n",
    "Below we define the configuration for datasets that will be passed between steps in our pipeline. Note, in all cases we specify the datastore that should hold the datasets and whether they should be registered following step completion or not. This can optionally be disabled by removing the register_on_complete() call. `upload_file_dataset` is intended to hold the data within an uploaded CSV file and `processed_dataset` will contain our uploaded data post-processing."
   ]
  },
  {
   "cell_type": "code",
   "execution_count": null,
   "id": "dca370e5",
   "metadata": {},
   "outputs": [],
   "source": [
    "uploaded_file_dataset = OutputFileDatasetConfig(name='uploaded_file_data', destination=(default_ds, 'uploaded_file_data/{run-id}')).read_delimited_files().register_on_complete(name='uploaded_file_data')\n",
    "processed_dataset = OutputFileDatasetConfig(name='processed_data', destination=(default_ds, 'processed_data/{run-id}')).read_delimited_files().register_on_complete(name='processed_data')"
   ]
  },
  {
   "cell_type": "markdown",
   "id": "2e838c99",
   "metadata": {},
   "source": [
    "### Define Pipeline Parameters\n",
    "PipelineParameter objects serve as variable inputs to an Azure ML pipeline and can be specified at runtime. Below we specify a pipeline parameter object `uploaded_file_path_param` which will be used to define the locations of uploaded data inside the default Azure ML Blob datastore. Multiple pipeline parameters can be created and used."
   ]
  },
  {
   "cell_type": "code",
   "execution_count": null,
   "id": "76f14eab",
   "metadata": {},
   "outputs": [],
   "source": [
    "uploaded_file_path_param = PipelineParameter(name='uploaded_file_path_param', default_value='adf_uploads/<YOUR-FILE-NAME>')"
   ]
  },
  {
   "cell_type": "markdown",
   "id": "f98bbdd0",
   "metadata": {},
   "source": [
    "### Define Pipeline Steps\n",
    "The pipeline below consists of two steps - one step to gather and register the uploaded file in the AML datastore, and a secondary step to consume and process this registered dataset. Also, any PipelineParameters defined above can be passed to and consumed within these steps."
   ]
  },
  {
   "cell_type": "code",
   "execution_count": null,
   "id": "6f2b38bd",
   "metadata": {},
   "outputs": [],
   "source": [
    "#Get CSV file uploaded to AML datastore via ADF\n",
    "#Register tabular dataset after retrieval\n",
    "register_data_step = PythonScriptStep(\n",
    "    name='register-uploaded-file-data',\n",
    "    script_name='register_file_data.py',\n",
    "    arguments =['--uploaded_file_path_param', uploaded_file_path_param,\n",
    "               '--uploaded_file_dataset', uploaded_file_dataset],\n",
    "    outputs=[uploaded_file_dataset],\n",
    "    compute_target=cpu_cluster,\n",
    "    source_directory='.',\n",
    "    allow_reuse=False,\n",
    "    runconfig=run_config\n",
    ")\n",
    "\n",
    "#Process uploaded data - uploaded_file_dataset is passed as an input\n",
    "#and will be subsequently processed and registered upon completion of the step\n",
    "process_data_step = PythonScriptStep(\n",
    "    name='process-uploaded-file-data',\n",
    "    script_name='process_file_data.py',\n",
    "    arguments =['--processed_dataset', processed_dataset],\n",
    "    inputs=[uploaded_file_dataset.as_input(name='uploaded_data')],\n",
    "    outputs=[processed_dataset],\n",
    "    compute_target=cpu_cluster,\n",
    "    source_directory='.',\n",
    "    allow_reuse=False,\n",
    "    runconfig=run_config\n",
    ")\n"
   ]
  },
  {
   "cell_type": "markdown",
   "id": "fd8ef96a",
   "metadata": {},
   "source": [
    "### Create Pipeline\n",
    "Create an Azure ML Pipeline by specifying the steps to be executed. Note: based on the dataset dependencies between steps, exection occurs logically such that no step will execute unless all of the necessary input datasets have been generated."
   ]
  },
  {
   "cell_type": "code",
   "execution_count": null,
   "id": "a3b3491f",
   "metadata": {},
   "outputs": [],
   "source": [
    "pipeline = Pipeline(workspace=ws, steps=[register_data_step, process_data_step])"
   ]
  },
  {
   "cell_type": "markdown",
   "id": "597db5e7",
   "metadata": {},
   "source": [
    "### Create Experiment and Run Pipeline\n",
    "Define a new experiment (logical container for pipeline runs) and execute the pipeline. You can modify the values of pipeline parameters here when submitting a new run."
   ]
  },
  {
   "cell_type": "code",
   "execution_count": null,
   "id": "58227622",
   "metadata": {},
   "outputs": [],
   "source": [
    "experiment = Experiment(ws, 'sample-pipeline-development')\n",
    "run = experiment.submit(pipeline)\n",
    "run.wait_for_completion(show_output=True)"
   ]
  },
  {
   "cell_type": "markdown",
   "id": "2bd1e780",
   "metadata": {},
   "source": [
    "### Publish Pipeline\n",
    "Create a published version of your pipeline that can be triggered via a REST API call."
   ]
  },
  {
   "cell_type": "code",
   "execution_count": null,
   "id": "466f4daa",
   "metadata": {},
   "outputs": [],
   "source": [
    "published_pipeline = pipeline.publish(name = 'sample_aml_pipeline',\n",
    "                                     description = 'Sample pipeline that registers a dataset uploaded manually.',\n",
    "                                     continue_on_step_failure = False)"
   ]
  }
 ],
 "metadata": {
  "kernelspec": {
   "display_name": "Python 3.6 - AzureML",
   "language": "python",
   "name": "python3-azureml"
  },
  "language_info": {
   "codemirror_mode": {
    "name": "ipython",
    "version": 3
   },
   "file_extension": ".py",
   "mimetype": "text/x-python",
   "name": "python",
   "nbconvert_exporter": "python",
   "pygments_lexer": "ipython3",
   "version": "3.6.9"
  }
 },
 "nbformat": 4,
 "nbformat_minor": 5
}